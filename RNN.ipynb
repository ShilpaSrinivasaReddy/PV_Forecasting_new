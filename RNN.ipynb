{
 "cells": [
  {
   "cell_type": "code",
   "execution_count": 9,
   "metadata": {},
   "outputs": [],
   "source": [
    "import pandas as pd\n",
    "import numpy as np\n",
    "import keras as K\n",
    "import keras.layers as L\n",
    "import keras.optimizers as O\n",
    "\n",
    "\n",
    "from tensorflow.keras.callbacks import EarlyStopping, ReduceLROnPlateau\n",
    "from sklearn.metrics import mean_absolute_percentage_error, mean_absolute_error, mean_squared_error, r2_score\n",
    "from sklearn.model_selection import train_test_split"
   ]
  },
  {
   "cell_type": "code",
   "execution_count": 10,
   "metadata": {},
   "outputs": [],
   "source": [
    "# Read the CSV file into a DataFrame\n",
    "df = pd.read_csv('Thesisdataset.csv', parse_dates=['UTC'], date_format='%Y-%m-%d %H:%M:%S%z')"
   ]
  },
  {
   "cell_type": "code",
   "execution_count": 11,
   "metadata": {},
   "outputs": [],
   "source": [
    "# Set 'UTC' column as the index\n",
    "df.set_index('UTC', inplace=True)"
   ]
  },
  {
   "cell_type": "code",
   "execution_count": 15,
   "metadata": {},
   "outputs": [],
   "source": [
    "# Creating cyclical features\n",
    "df['hour'] = df.index.hour\n",
    "df['day'] = df.index.day\n",
    "df['month'] = df.index.month\n",
    "df['dayofweek'] = df.index.dayofweek\n",
    "\n",
    "# Transforming the features using sine and cosine\n",
    "df['hour_sin'] = np.sin(2 * np.pi * df['hour'] / 24)\n",
    "df['hour_cos'] = np.cos(2 * np.pi * df['hour'] / 24)\n",
    "df['day_sin'] = np.sin(2 * np.pi * df['day'] / 31)\n",
    "df['day_cos'] = np.cos(2 * np.pi * df['day'] / 31)\n",
    "df['month_sin'] = np.sin(2 * np.pi * df['month'] / 12)\n",
    "df['month_cos'] = np.cos(2 * np.pi * df['month'] / 12)\n",
    "df['dayofweek_sin'] = np.sin(2 * np.pi * df['dayofweek'] / 7)\n",
    "df['dayofweek_cos'] = np.cos(2 * np.pi * df['dayofweek'] / 7)\n",
    "\n",
    "# Dropping the original columns used for transformation\n",
    "df.drop(columns=['hour', 'day', 'month', 'dayofweek'], inplace=True)"
   ]
  },
  {
   "cell_type": "code",
   "execution_count": 16,
   "metadata": {},
   "outputs": [
    {
     "ename": "KeyError",
     "evalue": "('Irr', 'PrdNorm')",
     "output_type": "error",
     "traceback": [
      "\u001b[0;31m---------------------------------------------------------------------------\u001b[0m",
      "\u001b[0;31mKeyError\u001b[0m                                  Traceback (most recent call last)",
      "File \u001b[0;32m~/Library/Python/3.9/lib/python/site-packages/pandas/core/indexes/base.py:3790\u001b[0m, in \u001b[0;36mIndex.get_loc\u001b[0;34m(self, key)\u001b[0m\n\u001b[1;32m   3789\u001b[0m \u001b[38;5;28;01mtry\u001b[39;00m:\n\u001b[0;32m-> 3790\u001b[0m     \u001b[38;5;28;01mreturn\u001b[39;00m \u001b[38;5;28;43mself\u001b[39;49m\u001b[38;5;241;43m.\u001b[39;49m\u001b[43m_engine\u001b[49m\u001b[38;5;241;43m.\u001b[39;49m\u001b[43mget_loc\u001b[49m\u001b[43m(\u001b[49m\u001b[43mcasted_key\u001b[49m\u001b[43m)\u001b[49m\n\u001b[1;32m   3791\u001b[0m \u001b[38;5;28;01mexcept\u001b[39;00m \u001b[38;5;167;01mKeyError\u001b[39;00m \u001b[38;5;28;01mas\u001b[39;00m err:\n",
      "File \u001b[0;32mindex.pyx:152\u001b[0m, in \u001b[0;36mpandas._libs.index.IndexEngine.get_loc\u001b[0;34m()\u001b[0m\n",
      "File \u001b[0;32mindex.pyx:181\u001b[0m, in \u001b[0;36mpandas._libs.index.IndexEngine.get_loc\u001b[0;34m()\u001b[0m\n",
      "File \u001b[0;32mpandas/_libs/hashtable_class_helper.pxi:7080\u001b[0m, in \u001b[0;36mpandas._libs.hashtable.PyObjectHashTable.get_item\u001b[0;34m()\u001b[0m\n",
      "File \u001b[0;32mpandas/_libs/hashtable_class_helper.pxi:7088\u001b[0m, in \u001b[0;36mpandas._libs.hashtable.PyObjectHashTable.get_item\u001b[0;34m()\u001b[0m\n",
      "\u001b[0;31mKeyError\u001b[0m: ('Irr', 'PrdNorm')",
      "\nThe above exception was the direct cause of the following exception:\n",
      "\u001b[0;31mKeyError\u001b[0m                                  Traceback (most recent call last)",
      "Cell \u001b[0;32mIn[16], line 3\u001b[0m\n\u001b[1;32m      1\u001b[0m \u001b[38;5;66;03m# Splitting the data into features (X) and target (y)\u001b[39;00m\n\u001b[1;32m      2\u001b[0m X \u001b[38;5;241m=\u001b[39m df[[\u001b[38;5;124m'\u001b[39m\u001b[38;5;124mhour_sin\u001b[39m\u001b[38;5;124m'\u001b[39m, \u001b[38;5;124m'\u001b[39m\u001b[38;5;124mhour_cos\u001b[39m\u001b[38;5;124m'\u001b[39m, \u001b[38;5;124m'\u001b[39m\u001b[38;5;124mday_sin\u001b[39m\u001b[38;5;124m'\u001b[39m, \u001b[38;5;124m'\u001b[39m\u001b[38;5;124mday_cos\u001b[39m\u001b[38;5;124m'\u001b[39m, \u001b[38;5;124m'\u001b[39m\u001b[38;5;124mmonth_sin\u001b[39m\u001b[38;5;124m'\u001b[39m, \u001b[38;5;124m'\u001b[39m\u001b[38;5;124mmonth_cos\u001b[39m\u001b[38;5;124m'\u001b[39m, \u001b[38;5;124m'\u001b[39m\u001b[38;5;124mdayofweek_sin\u001b[39m\u001b[38;5;124m'\u001b[39m, \u001b[38;5;124m'\u001b[39m\u001b[38;5;124mdayofweek_cos\u001b[39m\u001b[38;5;124m'\u001b[39m,\u001b[38;5;124m'\u001b[39m\u001b[38;5;124mIrr\u001b[39m\u001b[38;5;124m'\u001b[39m, \u001b[38;5;124m'\u001b[39m\u001b[38;5;124mPrdNorm\u001b[39m\u001b[38;5;124m'\u001b[39m]]\n\u001b[0;32m----> 3\u001b[0m y \u001b[38;5;241m=\u001b[39m \u001b[43mdf\u001b[49m\u001b[43m[\u001b[49m\u001b[38;5;124;43m'\u001b[39;49m\u001b[38;5;124;43mIrr\u001b[39;49m\u001b[38;5;124;43m'\u001b[39;49m\u001b[43m,\u001b[49m\u001b[43m \u001b[49m\u001b[38;5;124;43m'\u001b[39;49m\u001b[38;5;124;43mPrdNorm\u001b[39;49m\u001b[38;5;124;43m'\u001b[39;49m\u001b[43m]\u001b[49m\n\u001b[1;32m      5\u001b[0m \u001b[38;5;66;03m# Splitting the dataset into training and testing sets (80% train, 20% test)\u001b[39;00m\n\u001b[1;32m      6\u001b[0m X_train, X_test, y_train, y_test \u001b[38;5;241m=\u001b[39m train_test_split(X, y, test_size\u001b[38;5;241m=\u001b[39m\u001b[38;5;241m0.2\u001b[39m, random_state\u001b[38;5;241m=\u001b[39m\u001b[38;5;241m42\u001b[39m, shuffle\u001b[38;5;241m=\u001b[39m\u001b[38;5;28;01mFalse\u001b[39;00m)\n",
      "File \u001b[0;32m~/Library/Python/3.9/lib/python/site-packages/pandas/core/frame.py:3893\u001b[0m, in \u001b[0;36mDataFrame.__getitem__\u001b[0;34m(self, key)\u001b[0m\n\u001b[1;32m   3891\u001b[0m \u001b[38;5;28;01mif\u001b[39;00m \u001b[38;5;28mself\u001b[39m\u001b[38;5;241m.\u001b[39mcolumns\u001b[38;5;241m.\u001b[39mnlevels \u001b[38;5;241m>\u001b[39m \u001b[38;5;241m1\u001b[39m:\n\u001b[1;32m   3892\u001b[0m     \u001b[38;5;28;01mreturn\u001b[39;00m \u001b[38;5;28mself\u001b[39m\u001b[38;5;241m.\u001b[39m_getitem_multilevel(key)\n\u001b[0;32m-> 3893\u001b[0m indexer \u001b[38;5;241m=\u001b[39m \u001b[38;5;28;43mself\u001b[39;49m\u001b[38;5;241;43m.\u001b[39;49m\u001b[43mcolumns\u001b[49m\u001b[38;5;241;43m.\u001b[39;49m\u001b[43mget_loc\u001b[49m\u001b[43m(\u001b[49m\u001b[43mkey\u001b[49m\u001b[43m)\u001b[49m\n\u001b[1;32m   3894\u001b[0m \u001b[38;5;28;01mif\u001b[39;00m is_integer(indexer):\n\u001b[1;32m   3895\u001b[0m     indexer \u001b[38;5;241m=\u001b[39m [indexer]\n",
      "File \u001b[0;32m~/Library/Python/3.9/lib/python/site-packages/pandas/core/indexes/base.py:3797\u001b[0m, in \u001b[0;36mIndex.get_loc\u001b[0;34m(self, key)\u001b[0m\n\u001b[1;32m   3792\u001b[0m     \u001b[38;5;28;01mif\u001b[39;00m \u001b[38;5;28misinstance\u001b[39m(casted_key, \u001b[38;5;28mslice\u001b[39m) \u001b[38;5;129;01mor\u001b[39;00m (\n\u001b[1;32m   3793\u001b[0m         \u001b[38;5;28misinstance\u001b[39m(casted_key, abc\u001b[38;5;241m.\u001b[39mIterable)\n\u001b[1;32m   3794\u001b[0m         \u001b[38;5;129;01mand\u001b[39;00m \u001b[38;5;28many\u001b[39m(\u001b[38;5;28misinstance\u001b[39m(x, \u001b[38;5;28mslice\u001b[39m) \u001b[38;5;28;01mfor\u001b[39;00m x \u001b[38;5;129;01min\u001b[39;00m casted_key)\n\u001b[1;32m   3795\u001b[0m     ):\n\u001b[1;32m   3796\u001b[0m         \u001b[38;5;28;01mraise\u001b[39;00m InvalidIndexError(key)\n\u001b[0;32m-> 3797\u001b[0m     \u001b[38;5;28;01mraise\u001b[39;00m \u001b[38;5;167;01mKeyError\u001b[39;00m(key) \u001b[38;5;28;01mfrom\u001b[39;00m \u001b[38;5;21;01merr\u001b[39;00m\n\u001b[1;32m   3798\u001b[0m \u001b[38;5;28;01mexcept\u001b[39;00m \u001b[38;5;167;01mTypeError\u001b[39;00m:\n\u001b[1;32m   3799\u001b[0m     \u001b[38;5;66;03m# If we have a listlike key, _check_indexing_error will raise\u001b[39;00m\n\u001b[1;32m   3800\u001b[0m     \u001b[38;5;66;03m#  InvalidIndexError. Otherwise we fall through and re-raise\u001b[39;00m\n\u001b[1;32m   3801\u001b[0m     \u001b[38;5;66;03m#  the TypeError.\u001b[39;00m\n\u001b[1;32m   3802\u001b[0m     \u001b[38;5;28mself\u001b[39m\u001b[38;5;241m.\u001b[39m_check_indexing_error(key)\n",
      "\u001b[0;31mKeyError\u001b[0m: ('Irr', 'PrdNorm')"
     ]
    }
   ],
   "source": [
    "# Splitting the data into features (X) and target (y)\n",
    "X = df[['hour_sin', 'hour_cos', 'day_sin', 'day_cos', 'month_sin', 'month_cos', 'dayofweek_sin', 'dayofweek_cos','Irr', 'PrdNorm']]\n",
    "y = df['Irr', 'PrdNorm']\n",
    "\n",
    "# Splitting the dataset into training and testing sets (80% train, 20% test)\n",
    "X_train, X_test, y_train, y_test = train_test_split(X, y, test_size=0.2, random_state=42, shuffle=False)"
   ]
  },
  {
   "cell_type": "code",
   "execution_count": 17,
   "metadata": {},
   "outputs": [],
   "source": [
    "# Parameters for the RNN\n",
    "n_back = 24  # past 24 hours\n",
    "n_next = 1   # next 1 hour"
   ]
  },
  {
   "cell_type": "code",
   "execution_count": 18,
   "metadata": {},
   "outputs": [
    {
     "ename": "NameError",
     "evalue": "name 'X_train' is not defined",
     "output_type": "error",
     "traceback": [
      "\u001b[0;31m---------------------------------------------------------------------------\u001b[0m",
      "\u001b[0;31mNameError\u001b[0m                                 Traceback (most recent call last)",
      "Cell \u001b[0;32mIn[18], line 1\u001b[0m\n\u001b[0;32m----> 1\u001b[0m \u001b[38;5;28mprint\u001b[39m(\u001b[38;5;124mf\u001b[39m\u001b[38;5;124m\"\u001b[39m\u001b[38;5;124mX_train shape: \u001b[39m\u001b[38;5;132;01m{\u001b[39;00mX_train\u001b[38;5;241m.\u001b[39mshape\u001b[38;5;132;01m}\u001b[39;00m\u001b[38;5;124m, y_train shape: \u001b[39m\u001b[38;5;132;01m{\u001b[39;00my_train\u001b[38;5;241m.\u001b[39mshape\u001b[38;5;132;01m}\u001b[39;00m\u001b[38;5;124m\"\u001b[39m)\n\u001b[1;32m      2\u001b[0m \u001b[38;5;28mprint\u001b[39m(\u001b[38;5;124mf\u001b[39m\u001b[38;5;124m\"\u001b[39m\u001b[38;5;124mX_test shape: \u001b[39m\u001b[38;5;132;01m{\u001b[39;00mX_test\u001b[38;5;241m.\u001b[39mshape\u001b[38;5;132;01m}\u001b[39;00m\u001b[38;5;124m, y_test shape: \u001b[39m\u001b[38;5;132;01m{\u001b[39;00my_test\u001b[38;5;241m.\u001b[39mshape\u001b[38;5;132;01m}\u001b[39;00m\u001b[38;5;124m\"\u001b[39m)\n",
      "\u001b[0;31mNameError\u001b[0m: name 'X_train' is not defined"
     ]
    }
   ],
   "source": [
    "print(f\"X_train shape: {X_train.shape}, y_train shape: {y_train.shape}\")\n",
    "print(f\"X_test shape: {X_test.shape}, y_test shape: {y_test.shape}\")\n"
   ]
  },
  {
   "cell_type": "code",
   "execution_count": 6,
   "metadata": {},
   "outputs": [
    {
     "ename": "NameError",
     "evalue": "name 'X_train' is not defined",
     "output_type": "error",
     "traceback": [
      "\u001b[0;31m---------------------------------------------------------------------------\u001b[0m",
      "\u001b[0;31mNameError\u001b[0m                                 Traceback (most recent call last)",
      "Cell \u001b[0;32mIn[6], line 3\u001b[0m\n\u001b[1;32m      1\u001b[0m \u001b[38;5;66;03m# Prepare data for RNN\u001b[39;00m\n\u001b[1;32m      2\u001b[0m n_back \u001b[38;5;241m=\u001b[39m \u001b[38;5;241m24\u001b[39m\n\u001b[0;32m----> 3\u001b[0m X_train_seq \u001b[38;5;241m=\u001b[39m np\u001b[38;5;241m.\u001b[39mzeros((\u001b[38;5;28mlen\u001b[39m(\u001b[43mX_train\u001b[49m) \u001b[38;5;241m-\u001b[39m n_back, n_back, X_train\u001b[38;5;241m.\u001b[39mshape[\u001b[38;5;241m1\u001b[39m]))\n\u001b[1;32m      4\u001b[0m y_train_seq \u001b[38;5;241m=\u001b[39m np\u001b[38;5;241m.\u001b[39mzeros(\u001b[38;5;28mlen\u001b[39m(X_train) \u001b[38;5;241m-\u001b[39m n_back)\n\u001b[1;32m      6\u001b[0m \u001b[38;5;28;01mfor\u001b[39;00m i \u001b[38;5;129;01min\u001b[39;00m \u001b[38;5;28mrange\u001b[39m(\u001b[38;5;28mlen\u001b[39m(X_train) \u001b[38;5;241m-\u001b[39m n_back):\n",
      "\u001b[0;31mNameError\u001b[0m: name 'X_train' is not defined"
     ]
    }
   ],
   "source": [
    "# Prepare data for RNN\n",
    "n_back = 24\n",
    "X_train_seq = np.zeros((len(X_train) - n_back, n_back, X_train.shape[1]))\n",
    "y_train_seq = np.zeros(len(X_train) - n_back)\n",
    "\n",
    "for i in range(len(X_train) - n_back):\n",
    "    X_train_seq[i] = X_train.values[i:i + n_back]\n",
    "    y_train_seq[i] = y_train.values[i + n_back]\n",
    "\n",
    "X_test_seq = np.zeros((len(X_test) - n_back, n_back, X_test.shape[1]))\n",
    "y_test_seq = np.zeros(len(X_test) - n_back)\n",
    "\n",
    "for i in range(len(X_test) - n_back):\n",
    "    X_test_seq[i] = X_test.values[i:i + n_back]\n",
    "    y_test_seq[i] = y_test.values[i + n_back]"
   ]
  },
  {
   "cell_type": "code",
   "execution_count": 7,
   "metadata": {},
   "outputs": [
    {
     "ename": "NameError",
     "evalue": "name 'X_train_seq' is not defined",
     "output_type": "error",
     "traceback": [
      "\u001b[0;31m---------------------------------------------------------------------------\u001b[0m",
      "\u001b[0;31mNameError\u001b[0m                                 Traceback (most recent call last)",
      "Cell \u001b[0;32mIn[7], line 3\u001b[0m\n\u001b[1;32m      1\u001b[0m \u001b[38;5;66;03m# Define the RNN model with LSTM layers\u001b[39;00m\n\u001b[1;32m      2\u001b[0m rnn_model \u001b[38;5;241m=\u001b[39m K\u001b[38;5;241m.\u001b[39mSequential()\n\u001b[0;32m----> 3\u001b[0m rnn_model\u001b[38;5;241m.\u001b[39madd(L\u001b[38;5;241m.\u001b[39mInput( shape\u001b[38;5;241m=\u001b[39m(\u001b[43mX_train_seq\u001b[49m\u001b[38;5;241m.\u001b[39mshape[\u001b[38;5;241m1\u001b[39m], X_train_seq\u001b[38;5;241m.\u001b[39mshape[\u001b[38;5;241m2\u001b[39m])) )\n\u001b[1;32m      4\u001b[0m fw_layer \u001b[38;5;241m=\u001b[39m L\u001b[38;5;241m.\u001b[39mLSTM(\u001b[38;5;241m64\u001b[39m, activation\u001b[38;5;241m=\u001b[39m\u001b[38;5;124m'\u001b[39m\u001b[38;5;124mrelu\u001b[39m\u001b[38;5;124m'\u001b[39m, dropout\u001b[38;5;241m=\u001b[39m\u001b[38;5;241m0.00\u001b[39m, return_sequences\u001b[38;5;241m=\u001b[39m\u001b[38;5;28;01mTrue\u001b[39;00m)\n\u001b[1;32m      5\u001b[0m bw_layer \u001b[38;5;241m=\u001b[39m L\u001b[38;5;241m.\u001b[39mLSTM(\u001b[38;5;241m64\u001b[39m, activation\u001b[38;5;241m=\u001b[39m\u001b[38;5;124m'\u001b[39m\u001b[38;5;124mrelu\u001b[39m\u001b[38;5;124m'\u001b[39m, dropout\u001b[38;5;241m=\u001b[39m\u001b[38;5;241m0.00\u001b[39m, return_sequences\u001b[38;5;241m=\u001b[39m\u001b[38;5;28;01mTrue\u001b[39;00m, go_backwards\u001b[38;5;241m=\u001b[39m\u001b[38;5;28;01mTrue\u001b[39;00m)\n",
      "\u001b[0;31mNameError\u001b[0m: name 'X_train_seq' is not defined"
     ]
    }
   ],
   "source": [
    "# Define the RNN model with LSTM layers\n",
    "rnn_model = K.Sequential()\n",
    "rnn_model.add(L.Input( shape=(X_train_seq.shape[1], X_train_seq.shape[2])) )\n",
    "fw_layer = L.LSTM(64, activation='relu', dropout=0.00, return_sequences=True)\n",
    "bw_layer = L.LSTM(64, activation='relu', dropout=0.00, return_sequences=True, go_backwards=True)\n",
    "rnn_model.add(L.Bidirectional(fw_layer, backward_layer=bw_layer))\n",
    "\n",
    "rnn_model.add(L.TimeDistributed(L.Dense(64, activation='relu')))\n",
    "rnn_model.add(L.TimeDistributed(L.Dense(32, activation='relu')))\n",
    "rnn_model.add(L.TimeDistributed(L.Dense(16, activation='relu')))\n",
    "\n",
    "rnn_model.add(L.Flatten())\n",
    "\n",
    "#rnn_model.add(L.Dropout(0.01))\n",
    "rnn_model.add(L.Dense(64, use_bias=False))\n",
    "rnn_model.add(L.BatchNormalization())\n",
    "rnn_model.add(L.ReLU())\n",
    "\n",
    "rnn_model.add(L.Dense(32, use_bias=False))\n",
    "rnn_model.add(L.BatchNormalization())\n",
    "rnn_model.add(L.ReLU())\n",
    "\n",
    "rnn_model.add(L.Dense(16, use_bias=False))\n",
    "rnn_model.add(L.BatchNormalization())\n",
    "rnn_model.add(L.ReLU())\n",
    "\n",
    "rnn_model.add(L.Dense(2, use_bias=True))\n",
    "rnn_model.add(L.ReLU())\n",
    "\n",
    "rnn_model.summary()\n",
    "\n"
   ]
  },
  {
   "cell_type": "code",
   "execution_count": 107,
   "metadata": {},
   "outputs": [
    {
     "name": "stderr",
     "output_type": "stream",
     "text": [
      "WARNING:absl:At this time, the v2.11+ optimizer `tf.keras.optimizers.Adam` runs slowly on M1/M2 Macs, please use the legacy Keras optimizer instead, located at `tf.keras.optimizers.legacy.Adam`.\n"
     ]
    }
   ],
   "source": [
    "# Compile the model\n",
    "opt = O.Adam(learning_rate=0.0002)\n",
    "rnn_model.compile(optimizer=opt, loss='mean_squared_error', metrics=['mae'])\n",
    "\n",
    "# Callbacks for early stopping and learning rate reduction\n",
    "early_stop = EarlyStopping(monitor='val_loss', patience=50, restore_best_weights=True)\n",
    "lr_scheduler = ReduceLROnPlateau(monitor='val_loss', factor=0.5, patience=5, min_lr=1e-6)\n"
   ]
  },
  {
   "cell_type": "code",
   "execution_count": 108,
   "metadata": {},
   "outputs": [
    {
     "name": "stdout",
     "output_type": "stream",
     "text": [
      "Epoch 1/100\n",
      "700/700 [==============================] - 15s 19ms/step - loss: 0.0548 - mae: 0.1298 - val_loss: 0.0120 - val_mae: 0.0566 - lr: 2.0000e-04\n",
      "Epoch 2/100\n",
      "700/700 [==============================] - 14s 19ms/step - loss: 0.0145 - mae: 0.0666 - val_loss: 0.0081 - val_mae: 0.0461 - lr: 2.0000e-04\n",
      "Epoch 3/100\n",
      "700/700 [==============================] - 14s 19ms/step - loss: 0.0116 - mae: 0.0589 - val_loss: 0.0072 - val_mae: 0.0438 - lr: 2.0000e-04\n",
      "Epoch 4/100\n",
      "700/700 [==============================] - 13s 19ms/step - loss: 0.0092 - mae: 0.0521 - val_loss: 0.0059 - val_mae: 0.0396 - lr: 2.0000e-04\n",
      "Epoch 5/100\n",
      "700/700 [==============================] - 14s 19ms/step - loss: 0.0083 - mae: 0.0496 - val_loss: 0.0059 - val_mae: 0.0401 - lr: 2.0000e-04\n",
      "Epoch 6/100\n",
      "700/700 [==============================] - 15s 21ms/step - loss: 0.0077 - mae: 0.0474 - val_loss: 0.0052 - val_mae: 0.0364 - lr: 2.0000e-04\n",
      "Epoch 7/100\n",
      "700/700 [==============================] - 14s 21ms/step - loss: 0.0066 - mae: 0.0438 - val_loss: 0.0049 - val_mae: 0.0348 - lr: 2.0000e-04\n",
      "Epoch 8/100\n",
      "700/700 [==============================] - 15s 21ms/step - loss: 0.0061 - mae: 0.0415 - val_loss: 0.0044 - val_mae: 0.0331 - lr: 2.0000e-04\n",
      "Epoch 9/100\n",
      "700/700 [==============================] - 14s 20ms/step - loss: 0.0059 - mae: 0.0408 - val_loss: 0.0041 - val_mae: 0.0322 - lr: 2.0000e-04\n",
      "Epoch 10/100\n",
      "700/700 [==============================] - 14s 19ms/step - loss: 0.0058 - mae: 0.0405 - val_loss: 0.0042 - val_mae: 0.0326 - lr: 2.0000e-04\n",
      "Epoch 11/100\n",
      "700/700 [==============================] - 13s 19ms/step - loss: 0.0055 - mae: 0.0393 - val_loss: 0.0039 - val_mae: 0.0314 - lr: 2.0000e-04\n",
      "Epoch 12/100\n",
      "700/700 [==============================] - 14s 20ms/step - loss: 0.0051 - mae: 0.0375 - val_loss: 0.0038 - val_mae: 0.0310 - lr: 2.0000e-04\n",
      "Epoch 13/100\n",
      "700/700 [==============================] - 14s 19ms/step - loss: 0.0049 - mae: 0.0364 - val_loss: 0.0039 - val_mae: 0.0322 - lr: 2.0000e-04\n",
      "Epoch 14/100\n",
      "700/700 [==============================] - 13s 19ms/step - loss: 0.0047 - mae: 0.0357 - val_loss: 0.0039 - val_mae: 0.0311 - lr: 2.0000e-04\n",
      "Epoch 15/100\n",
      "700/700 [==============================] - 13s 19ms/step - loss: 0.0049 - mae: 0.0364 - val_loss: 0.0042 - val_mae: 0.0327 - lr: 2.0000e-04\n",
      "Epoch 16/100\n",
      "700/700 [==============================] - 14s 20ms/step - loss: 0.0051 - mae: 0.0375 - val_loss: 0.0040 - val_mae: 0.0310 - lr: 2.0000e-04\n",
      "Epoch 17/100\n",
      "700/700 [==============================] - 13s 19ms/step - loss: 0.0046 - mae: 0.0351 - val_loss: 0.0037 - val_mae: 0.0294 - lr: 2.0000e-04\n",
      "Epoch 18/100\n",
      "700/700 [==============================] - 14s 20ms/step - loss: 0.0042 - mae: 0.0330 - val_loss: 0.0035 - val_mae: 0.0290 - lr: 1.0000e-04\n",
      "Epoch 19/100\n",
      "700/700 [==============================] - 15s 22ms/step - loss: 0.0041 - mae: 0.0324 - val_loss: 0.0034 - val_mae: 0.0285 - lr: 1.0000e-04\n",
      "Epoch 20/100\n",
      "700/700 [==============================] - 14s 20ms/step - loss: 0.0040 - mae: 0.0319 - val_loss: 0.0033 - val_mae: 0.0275 - lr: 1.0000e-04\n",
      "Epoch 21/100\n",
      "700/700 [==============================] - 14s 20ms/step - loss: 0.0039 - mae: 0.0318 - val_loss: 0.0033 - val_mae: 0.0277 - lr: 1.0000e-04\n",
      "Epoch 22/100\n",
      "700/700 [==============================] - 14s 20ms/step - loss: 0.0040 - mae: 0.0321 - val_loss: 0.0033 - val_mae: 0.0278 - lr: 1.0000e-04\n",
      "Epoch 23/100\n",
      "700/700 [==============================] - 14s 19ms/step - loss: 0.0041 - mae: 0.0326 - val_loss: 0.0034 - val_mae: 0.0289 - lr: 1.0000e-04\n",
      "Epoch 24/100\n",
      "700/700 [==============================] - 14s 20ms/step - loss: 0.0040 - mae: 0.0319 - val_loss: 0.0033 - val_mae: 0.0285 - lr: 1.0000e-04\n",
      "Epoch 25/100\n",
      "700/700 [==============================] - 14s 20ms/step - loss: 0.0040 - mae: 0.0322 - val_loss: 0.0034 - val_mae: 0.0290 - lr: 1.0000e-04\n",
      "Epoch 26/100\n",
      "700/700 [==============================] - 14s 20ms/step - loss: 0.0040 - mae: 0.0320 - val_loss: 0.0033 - val_mae: 0.0280 - lr: 5.0000e-05\n",
      "Epoch 27/100\n",
      "700/700 [==============================] - 14s 20ms/step - loss: 0.0039 - mae: 0.0314 - val_loss: 0.0032 - val_mae: 0.0278 - lr: 5.0000e-05\n",
      "Epoch 28/100\n",
      "700/700 [==============================] - 14s 20ms/step - loss: 0.0038 - mae: 0.0311 - val_loss: 0.0032 - val_mae: 0.0275 - lr: 5.0000e-05\n",
      "Epoch 29/100\n",
      "700/700 [==============================] - 14s 20ms/step - loss: 0.0038 - mae: 0.0308 - val_loss: 0.0031 - val_mae: 0.0271 - lr: 5.0000e-05\n",
      "Epoch 30/100\n",
      "700/700 [==============================] - 14s 21ms/step - loss: 0.0037 - mae: 0.0305 - val_loss: 0.0031 - val_mae: 0.0270 - lr: 5.0000e-05\n",
      "Epoch 31/100\n",
      "700/700 [==============================] - 15s 21ms/step - loss: 0.0037 - mae: 0.0304 - val_loss: 0.0031 - val_mae: 0.0267 - lr: 5.0000e-05\n",
      "Epoch 32/100\n",
      "700/700 [==============================] - 14s 20ms/step - loss: 0.0036 - mae: 0.0300 - val_loss: 0.0031 - val_mae: 0.0267 - lr: 5.0000e-05\n",
      "Epoch 33/100\n",
      "700/700 [==============================] - 14s 20ms/step - loss: 0.0036 - mae: 0.0299 - val_loss: 0.0031 - val_mae: 0.0268 - lr: 5.0000e-05\n",
      "Epoch 34/100\n",
      "700/700 [==============================] - 14s 19ms/step - loss: 0.0036 - mae: 0.0300 - val_loss: 0.0031 - val_mae: 0.0266 - lr: 5.0000e-05\n",
      "Epoch 35/100\n",
      "700/700 [==============================] - 13s 19ms/step - loss: 0.0036 - mae: 0.0300 - val_loss: 0.0031 - val_mae: 0.0267 - lr: 2.5000e-05\n",
      "Epoch 36/100\n",
      "700/700 [==============================] - 13s 19ms/step - loss: 0.0036 - mae: 0.0297 - val_loss: 0.0031 - val_mae: 0.0267 - lr: 2.5000e-05\n",
      "Epoch 37/100\n",
      "700/700 [==============================] - 14s 20ms/step - loss: 0.0036 - mae: 0.0297 - val_loss: 0.0031 - val_mae: 0.0269 - lr: 2.5000e-05\n",
      "Epoch 38/100\n",
      "700/700 [==============================] - 13s 19ms/step - loss: 0.0036 - mae: 0.0297 - val_loss: 0.0030 - val_mae: 0.0264 - lr: 2.5000e-05\n",
      "Epoch 39/100\n",
      "700/700 [==============================] - 13s 19ms/step - loss: 0.0035 - mae: 0.0294 - val_loss: 0.0031 - val_mae: 0.0270 - lr: 2.5000e-05\n",
      "Epoch 40/100\n",
      "700/700 [==============================] - 14s 20ms/step - loss: 0.0035 - mae: 0.0294 - val_loss: 0.0030 - val_mae: 0.0263 - lr: 2.5000e-05\n",
      "Epoch 41/100\n",
      "700/700 [==============================] - 14s 20ms/step - loss: 0.0035 - mae: 0.0295 - val_loss: 0.0031 - val_mae: 0.0269 - lr: 2.5000e-05\n",
      "Epoch 42/100\n",
      "700/700 [==============================] - 14s 20ms/step - loss: 0.0035 - mae: 0.0294 - val_loss: 0.0031 - val_mae: 0.0266 - lr: 2.5000e-05\n",
      "Epoch 43/100\n",
      "700/700 [==============================] - 14s 20ms/step - loss: 0.0036 - mae: 0.0299 - val_loss: 0.0032 - val_mae: 0.0271 - lr: 2.5000e-05\n",
      "Epoch 44/100\n",
      "700/700 [==============================] - 14s 20ms/step - loss: 0.0036 - mae: 0.0300 - val_loss: 0.0031 - val_mae: 0.0265 - lr: 1.2500e-05\n",
      "Epoch 45/100\n",
      "700/700 [==============================] - 15s 21ms/step - loss: 0.0035 - mae: 0.0294 - val_loss: 0.0031 - val_mae: 0.0267 - lr: 1.2500e-05\n",
      "Epoch 46/100\n",
      "700/700 [==============================] - 14s 20ms/step - loss: 0.0035 - mae: 0.0292 - val_loss: 0.0031 - val_mae: 0.0267 - lr: 1.2500e-05\n",
      "Epoch 47/100\n",
      "700/700 [==============================] - 14s 19ms/step - loss: 0.0035 - mae: 0.0292 - val_loss: 0.0031 - val_mae: 0.0265 - lr: 1.2500e-05\n",
      "Epoch 48/100\n",
      "700/700 [==============================] - 14s 20ms/step - loss: 0.0035 - mae: 0.0291 - val_loss: 0.0030 - val_mae: 0.0265 - lr: 1.2500e-05\n",
      "Epoch 49/100\n",
      "700/700 [==============================] - 13s 19ms/step - loss: 0.0035 - mae: 0.0289 - val_loss: 0.0031 - val_mae: 0.0266 - lr: 6.2500e-06\n",
      "Epoch 50/100\n",
      "700/700 [==============================] - 14s 19ms/step - loss: 0.0035 - mae: 0.0289 - val_loss: 0.0031 - val_mae: 0.0267 - lr: 6.2500e-06\n",
      "Epoch 51/100\n",
      "700/700 [==============================] - 13s 19ms/step - loss: 0.0035 - mae: 0.0290 - val_loss: 0.0031 - val_mae: 0.0265 - lr: 6.2500e-06\n",
      "Epoch 52/100\n",
      "700/700 [==============================] - 13s 19ms/step - loss: 0.0035 - mae: 0.0289 - val_loss: 0.0031 - val_mae: 0.0267 - lr: 6.2500e-06\n",
      "Epoch 53/100\n",
      "700/700 [==============================] - 13s 19ms/step - loss: 0.0034 - mae: 0.0289 - val_loss: 0.0030 - val_mae: 0.0265 - lr: 6.2500e-06\n",
      "Epoch 54/100\n",
      "700/700 [==============================] - 13s 19ms/step - loss: 0.0034 - mae: 0.0289 - val_loss: 0.0030 - val_mae: 0.0265 - lr: 3.1250e-06\n",
      "Epoch 55/100\n",
      "700/700 [==============================] - 14s 21ms/step - loss: 0.0034 - mae: 0.0288 - val_loss: 0.0031 - val_mae: 0.0265 - lr: 3.1250e-06\n",
      "Epoch 56/100\n",
      "700/700 [==============================] - 14s 21ms/step - loss: 0.0034 - mae: 0.0288 - val_loss: 0.0030 - val_mae: 0.0265 - lr: 3.1250e-06\n",
      "Epoch 57/100\n",
      "700/700 [==============================] - 14s 20ms/step - loss: 0.0034 - mae: 0.0287 - val_loss: 0.0030 - val_mae: 0.0265 - lr: 3.1250e-06\n",
      "Epoch 58/100\n",
      "700/700 [==============================] - 14s 20ms/step - loss: 0.0034 - mae: 0.0287 - val_loss: 0.0031 - val_mae: 0.0265 - lr: 3.1250e-06\n",
      "Epoch 59/100\n",
      "700/700 [==============================] - 14s 19ms/step - loss: 0.0034 - mae: 0.0287 - val_loss: 0.0030 - val_mae: 0.0264 - lr: 1.5625e-06\n",
      "Epoch 60/100\n",
      "700/700 [==============================] - 14s 20ms/step - loss: 0.0034 - mae: 0.0287 - val_loss: 0.0031 - val_mae: 0.0265 - lr: 1.5625e-06\n",
      "Epoch 61/100\n",
      "700/700 [==============================] - 14s 20ms/step - loss: 0.0034 - mae: 0.0287 - val_loss: 0.0030 - val_mae: 0.0264 - lr: 1.5625e-06\n",
      "Epoch 62/100\n",
      "700/700 [==============================] - 14s 20ms/step - loss: 0.0034 - mae: 0.0285 - val_loss: 0.0030 - val_mae: 0.0264 - lr: 1.5625e-06\n",
      "Epoch 63/100\n",
      "700/700 [==============================] - 14s 20ms/step - loss: 0.0034 - mae: 0.0286 - val_loss: 0.0030 - val_mae: 0.0265 - lr: 1.5625e-06\n",
      "Epoch 64/100\n",
      "700/700 [==============================] - 14s 20ms/step - loss: 0.0034 - mae: 0.0287 - val_loss: 0.0030 - val_mae: 0.0264 - lr: 1.0000e-06\n",
      "Epoch 65/100\n",
      "700/700 [==============================] - 14s 20ms/step - loss: 0.0034 - mae: 0.0286 - val_loss: 0.0030 - val_mae: 0.0264 - lr: 1.0000e-06\n",
      "Epoch 66/100\n",
      "700/700 [==============================] - 14s 20ms/step - loss: 0.0034 - mae: 0.0287 - val_loss: 0.0030 - val_mae: 0.0265 - lr: 1.0000e-06\n",
      "Epoch 67/100\n",
      "700/700 [==============================] - 14s 21ms/step - loss: 0.0034 - mae: 0.0287 - val_loss: 0.0030 - val_mae: 0.0264 - lr: 1.0000e-06\n",
      "Epoch 68/100\n",
      "700/700 [==============================] - 14s 20ms/step - loss: 0.0034 - mae: 0.0288 - val_loss: 0.0030 - val_mae: 0.0264 - lr: 1.0000e-06\n",
      "Epoch 69/100\n",
      "700/700 [==============================] - 13s 19ms/step - loss: 0.0034 - mae: 0.0286 - val_loss: 0.0030 - val_mae: 0.0264 - lr: 1.0000e-06\n",
      "Epoch 70/100\n",
      "700/700 [==============================] - 14s 20ms/step - loss: 0.0034 - mae: 0.0287 - val_loss: 0.0030 - val_mae: 0.0263 - lr: 1.0000e-06\n",
      "Epoch 71/100\n",
      "700/700 [==============================] - 14s 21ms/step - loss: 0.0034 - mae: 0.0287 - val_loss: 0.0030 - val_mae: 0.0264 - lr: 1.0000e-06\n",
      "Epoch 72/100\n",
      "700/700 [==============================] - 14s 20ms/step - loss: 0.0034 - mae: 0.0287 - val_loss: 0.0030 - val_mae: 0.0264 - lr: 1.0000e-06\n",
      "Epoch 73/100\n",
      "700/700 [==============================] - 14s 20ms/step - loss: 0.0034 - mae: 0.0288 - val_loss: 0.0030 - val_mae: 0.0264 - lr: 1.0000e-06\n",
      "Epoch 74/100\n",
      "700/700 [==============================] - 14s 20ms/step - loss: 0.0034 - mae: 0.0287 - val_loss: 0.0030 - val_mae: 0.0263 - lr: 1.0000e-06\n",
      "Epoch 75/100\n",
      "700/700 [==============================] - 14s 19ms/step - loss: 0.0034 - mae: 0.0286 - val_loss: 0.0030 - val_mae: 0.0263 - lr: 1.0000e-06\n",
      "Epoch 76/100\n",
      "700/700 [==============================] - 13s 19ms/step - loss: 0.0034 - mae: 0.0288 - val_loss: 0.0030 - val_mae: 0.0264 - lr: 1.0000e-06\n",
      "Epoch 77/100\n",
      "700/700 [==============================] - 13s 19ms/step - loss: 0.0034 - mae: 0.0288 - val_loss: 0.0030 - val_mae: 0.0264 - lr: 1.0000e-06\n",
      "Epoch 78/100\n",
      "700/700 [==============================] - 14s 20ms/step - loss: 0.0034 - mae: 0.0285 - val_loss: 0.0030 - val_mae: 0.0265 - lr: 1.0000e-06\n",
      "Epoch 79/100\n",
      "700/700 [==============================] - 14s 20ms/step - loss: 0.0034 - mae: 0.0287 - val_loss: 0.0030 - val_mae: 0.0264 - lr: 1.0000e-06\n",
      "Epoch 80/100\n",
      "700/700 [==============================] - 14s 19ms/step - loss: 0.0034 - mae: 0.0286 - val_loss: 0.0030 - val_mae: 0.0265 - lr: 1.0000e-06\n",
      "Epoch 81/100\n",
      "700/700 [==============================] - 13s 19ms/step - loss: 0.0034 - mae: 0.0286 - val_loss: 0.0030 - val_mae: 0.0265 - lr: 1.0000e-06\n",
      "Epoch 82/100\n",
      "700/700 [==============================] - 14s 20ms/step - loss: 0.0034 - mae: 0.0287 - val_loss: 0.0030 - val_mae: 0.0264 - lr: 1.0000e-06\n",
      "Epoch 83/100\n",
      "700/700 [==============================] - 15s 21ms/step - loss: 0.0034 - mae: 0.0285 - val_loss: 0.0030 - val_mae: 0.0263 - lr: 1.0000e-06\n",
      "Epoch 84/100\n",
      "700/700 [==============================] - 15s 22ms/step - loss: 0.0034 - mae: 0.0286 - val_loss: 0.0030 - val_mae: 0.0263 - lr: 1.0000e-06\n",
      "Epoch 85/100\n",
      "700/700 [==============================] - 14s 20ms/step - loss: 0.0034 - mae: 0.0286 - val_loss: 0.0030 - val_mae: 0.0264 - lr: 1.0000e-06\n",
      "Epoch 86/100\n",
      "700/700 [==============================] - 15s 21ms/step - loss: 0.0034 - mae: 0.0286 - val_loss: 0.0030 - val_mae: 0.0264 - lr: 1.0000e-06\n",
      "Epoch 87/100\n",
      "700/700 [==============================] - 14s 21ms/step - loss: 0.0034 - mae: 0.0287 - val_loss: 0.0030 - val_mae: 0.0263 - lr: 1.0000e-06\n",
      "Epoch 88/100\n",
      "700/700 [==============================] - 14s 20ms/step - loss: 0.0034 - mae: 0.0286 - val_loss: 0.0030 - val_mae: 0.0264 - lr: 1.0000e-06\n",
      "Epoch 89/100\n",
      "700/700 [==============================] - 15s 21ms/step - loss: 0.0034 - mae: 0.0286 - val_loss: 0.0030 - val_mae: 0.0263 - lr: 1.0000e-06\n",
      "Epoch 90/100\n",
      "700/700 [==============================] - 14s 20ms/step - loss: 0.0034 - mae: 0.0286 - val_loss: 0.0030 - val_mae: 0.0263 - lr: 1.0000e-06\n",
      "Epoch 91/100\n",
      "700/700 [==============================] - 13s 19ms/step - loss: 0.0034 - mae: 0.0288 - val_loss: 0.0030 - val_mae: 0.0263 - lr: 1.0000e-06\n",
      "Epoch 92/100\n",
      "700/700 [==============================] - 14s 20ms/step - loss: 0.0034 - mae: 0.0287 - val_loss: 0.0030 - val_mae: 0.0263 - lr: 1.0000e-06\n",
      "Epoch 93/100\n",
      "700/700 [==============================] - 14s 20ms/step - loss: 0.0034 - mae: 0.0287 - val_loss: 0.0030 - val_mae: 0.0262 - lr: 1.0000e-06\n",
      "Epoch 94/100\n",
      "700/700 [==============================] - 13s 19ms/step - loss: 0.0034 - mae: 0.0287 - val_loss: 0.0030 - val_mae: 0.0264 - lr: 1.0000e-06\n",
      "Epoch 95/100\n",
      "700/700 [==============================] - 14s 21ms/step - loss: 0.0034 - mae: 0.0287 - val_loss: 0.0030 - val_mae: 0.0263 - lr: 1.0000e-06\n",
      "Epoch 96/100\n",
      "700/700 [==============================] - 15s 21ms/step - loss: 0.0034 - mae: 0.0287 - val_loss: 0.0030 - val_mae: 0.0264 - lr: 1.0000e-06\n",
      "Epoch 97/100\n",
      "700/700 [==============================] - 15s 22ms/step - loss: 0.0034 - mae: 0.0285 - val_loss: 0.0030 - val_mae: 0.0263 - lr: 1.0000e-06\n",
      "Epoch 98/100\n",
      "700/700 [==============================] - 14s 20ms/step - loss: 0.0034 - mae: 0.0286 - val_loss: 0.0030 - val_mae: 0.0264 - lr: 1.0000e-06\n",
      "Epoch 99/100\n",
      "700/700 [==============================] - 14s 21ms/step - loss: 0.0034 - mae: 0.0285 - val_loss: 0.0030 - val_mae: 0.0264 - lr: 1.0000e-06\n",
      "Epoch 100/100\n",
      "700/700 [==============================] - 14s 20ms/step - loss: 0.0034 - mae: 0.0287 - val_loss: 0.0030 - val_mae: 0.0264 - lr: 1.0000e-06\n"
     ]
    }
   ],
   "source": [
    "# Train the model\n",
    "h = rnn_model.fit(\n",
    "    X_train_seq, y_train_seq, \n",
    "    epochs=100,\n",
    "    batch_size=64,\n",
    "    validation_data=(X_test_seq, y_test_seq), \n",
    "    callbacks=[early_stop, lr_scheduler])"
   ]
  },
  {
   "cell_type": "code",
   "execution_count": 109,
   "metadata": {},
   "outputs": [
    {
     "data": {
      "image/png": "[encoded data removed]",
      "text/plain": [
       "<Figure size 640x480 with 1 Axes>"
      ]
     },
     "metadata": {},
     "output_type": "display_data"
    }
   ],
   "source": [
    "import matplotlib.pyplot as plt\n",
    "\n",
    "plt.figure()\n",
    "plt.plot(h.history['loss'])\n",
    "plt.plot(h.history['val_loss'])\n",
    "plt.legend(['train loss', 'test loss'])\n",
    "plt.show()\n",
    "\n",
    "\n"
   ]
  },
  {
   "cell_type": "code",
   "execution_count": 117,
   "metadata": {},
   "outputs": [
    {
     "name": "stdout",
     "output_type": "stream",
     "text": [
      "350/350 [==============================] - 1s 3ms/step\n"
     ]
    },
    {
     "data": {
      "image/png": "[encoded data removed]",
      "text/plain": [
       "<Figure size 640x480 with 1 Axes>"
      ]
     },
     "metadata": {},
     "output_type": "display_data"
    }
   ],
   "source": [
    "y_pred_rnn = rnn_model.predict(X_test_seq)\n",
    "y_pred_rnn = y_pred_rnn.ravel()\n",
    "\n",
    "\n",
    "\n",
    "plt.figure()\n",
    "plt.plot(y_pred_rnn[37+24:37+48])\n",
    "plt.plot(y_test_seq[37+24:37+48])\n",
    "plt.legend(['pred', 'true'])\n",
    "plt.show()\n"
   ]
  },
  {
   "cell_type": "code",
   "execution_count": null,
   "metadata": {},
   "outputs": [],
   "source": []
  },
  {
   "cell_type": "code",
   "execution_count": 114,
   "metadata": {},
   "outputs": [
    {
     "name": "stdout",
     "output_type": "stream",
     "text": [
      "  Adjusted MAPE: 9158.22%\n",
      "  SMAPE: nan%\n",
      "  MBE: -0.00\n",
      "  MAE: 0.03\n",
      "  RMSE: 0.06\n",
      "  R²: 0.94\n",
      "\n"
     ]
    },
    {
     "name": "stderr",
     "output_type": "stream",
     "text": [
      "/var/folders/jt/kyx6hq5j06xckkk40t7gff180000gn/T/ipykernel_23622/1698621086.py:3: RuntimeWarning: invalid value encountered in divide\n",
      "  smape_rnn = np.mean(2 * np.abs(y_pred_hour - y_test_hour) / (np.abs(y_pred_hour) + np.abs(y_test_hour))) * 100\n"
     ]
    }
   ],
   "source": [
    "# Calculate metrics\n",
    "mape_rnn = adjusted_mape(y_test_hour, y_pred_hour)\n",
    "smape_rnn = np.mean(2 * np.abs(y_pred_hour - y_test_hour) / (np.abs(y_pred_hour) + np.abs(y_test_hour))) * 100\n",
    "mbe_rnn = np.mean(y_pred_hour - y_test_hour)  # Mean Bias Error\n",
    "mae_rnn = mean_absolute_error(y_test_hour, y_pred_hour)\n",
    "rmse_rnn = np.sqrt(mean_squared_error(y_test_hour, y_pred_hour))\n",
    "r2_rnn = r2_score(y_test_hour, y_pred_hour)\n",
    "\n",
    "# Print the evaluation results for each hour\n",
    "\n",
    "print(f\"  Adjusted MAPE: {mape_rnn:.2f}%\")\n",
    "print(f\"  SMAPE: {smape_rnn:.2f}%\")\n",
    "print(f\"  MBE: {mbe_rnn:.2f}\")\n",
    "print(f\"  MAE: {mae_rnn:.2f}\")\n",
    "print(f\"  RMSE: {rmse_rnn:.2f}\")\n",
    "print(f\"  R²: {r2_rnn:.2f}\\n\")"
   ]
  },
  {
   "cell_type": "code",
   "execution_count": null,
   "metadata": {},
   "outputs": [],
   "source": []
  },
  {
   "cell_type": "code",
   "execution_count": null,
   "metadata": {},
   "outputs": [],
   "source": []
  },
  {
   "cell_type": "code",
   "execution_count": null,
   "metadata": {},
   "outputs": [],
   "source": []
  },
  {
   "cell_type": "code",
   "execution_count": null,
   "metadata": {},
   "outputs": [],
   "source": []
  },
  {
   "cell_type": "code",
   "execution_count": null,
   "metadata": {},
   "outputs": [],
   "source": []
  },
  {
   "cell_type": "code",
   "execution_count": null,
   "metadata": {},
   "outputs": [],
   "source": []
  },
  {
   "cell_type": "code",
   "execution_count": null,
   "metadata": {},
   "outputs": [],
   "source": []
  },
  {
   "cell_type": "code",
   "execution_count": null,
   "metadata": {},
   "outputs": [],
   "source": []
  },
  {
   "cell_type": "code",
   "execution_count": null,
   "metadata": {},
   "outputs": [],
   "source": []
  },
  {
   "cell_type": "code",
   "execution_count": null,
   "metadata": {},
   "outputs": [],
   "source": []
  },
  {
   "cell_type": "code",
   "execution_count": null,
   "metadata": {},
   "outputs": [],
   "source": []
  },
  {
   "cell_type": "code",
   "execution_count": null,
   "metadata": {},
   "outputs": [],
   "source": []
  },
  {
   "cell_type": "code",
   "execution_count": 16,
   "metadata": {},
   "outputs": [],
   "source": [
    "import pandas as pd\n",
    "import numpy as np\n",
    "from sklearn.model_selection import train_test_split\n",
    "from sklearn.preprocessing import MinMaxScaler\n",
    "import tensorflow as tf\n",
    "from tensorflow.keras.models import Sequential\n",
    "from tensorflow.keras.layers import LSTM, Dense, Dropout\n",
    "from keras.optimizers import Adam\n",
    "from tensorflow.keras.callbacks import EarlyStopping, ReduceLROnPlateau\n",
    "from sklearn.metrics import mean_absolute_percentage_error, mean_absolute_error, mean_squared_error, r2_score\n",
    "\n",
    "# Read the CSV file into a DataFrame\n",
    "df = pd.read_csv('Thesisdataset.csv', parse_dates=['UTC'], date_format='%Y-%m-%d %H:%M:%S%z')\n",
    "df.set_index('UTC', inplace=True)\n",
    "\n",
    "# Creating cyclical features\n",
    "df['hour'] = df.index.hour\n",
    "df['day'] = df.index.day\n",
    "df['month'] = df.index.month\n",
    "df['dayofweek'] = df.index.dayofweek\n",
    "df['hour_sin'] = np.sin(2 * np.pi * df['hour'] / 24)\n",
    "df['hour_cos'] = np.cos(2 * np.pi * df['hour'] / 24)\n",
    "df['day_sin'] = np.sin(2 * np.pi * df['day'] / 31)\n",
    "df['day_cos'] = np.cos(2 * np.pi * df['day'] / 31)\n",
    "df['month_sin'] = np.sin(2 * np.pi * df['month'] / 12)\n",
    "df['month_cos'] = np.cos(2 * np.pi * df['month'] / 12)\n",
    "df['dayofweek_sin'] = np.sin(2 * np.pi * df['dayofweek'] / 7)\n",
    "df['dayofweek_cos'] = np.cos(2 * np.pi * df['dayofweek'] / 7)\n",
    "df.drop(columns=['hour', 'day', 'month', 'dayofweek'], inplace=True)\n",
    "\n",
    "# Splitting the data into features (X) and target (y)\n",
    "X = df[['Irr', 'hour_sin', 'hour_cos', 'day_sin', 'day_cos', 'month_sin', 'month_cos', 'dayofweek_sin', 'dayofweek_cos']]\n",
    "y = df['PrdNorm']\n",
    "\n",
    "# Normalize the data\n",
    "scaler_X = MinMaxScaler()\n",
    "scaler_y = MinMaxScaler()\n",
    "X_scaled = scaler_X.fit_transform(X)\n",
    "y_scaled = scaler_y.fit_transform(y.values.reshape(-1, 1))\n",
    "\n",
    "# Splitting the dataset into training and testing sets (80% train, 20% test)\n",
    "X_train, X_test, y_train, y_test = train_test_split(X_scaled, y_scaled, test_size=0.2, random_state=42)\n",
    "\n"
   ]
  },
  {
   "cell_type": "code",
   "execution_count": 17,
   "metadata": {},
   "outputs": [],
   "source": [
    "# Prepare data for RNN\n",
    "n_back = 24  # Use past 24 hours for predictions\n",
    "X_train_seq = np.array([X_train[i:i + n_back] for i in range(len(X_train) - n_back)])\n",
    "y_train_seq = np.array([y_train[i + n_back] for i in range(len(y_train) - n_back)])\n",
    "X_test_seq = np.array([X_test[i:i + n_back] for i in range(len(X_test) - n_back)])\n",
    "y_test_seq = np.array([y_test[i + n_back] for i in range(len(y_test) - n_back)])\n",
    "\n"
   ]
  },
  {
   "cell_type": "code",
   "execution_count": 18,
   "metadata": {},
   "outputs": [],
   "source": [
    "\n",
    "# Reshape input data to 3D for RNN: (samples, time_steps, features)\n",
    "X_train_seq = X_train_seq.reshape((X_train_seq.shape[0], X_train_seq.shape[1], X_train_seq.shape[2]))\n",
    "X_test_seq = X_test_seq.reshape((X_test_seq.shape[0], X_test_seq.shape[1], X_test_seq.shape[2]))\n"
   ]
  },
  {
   "cell_type": "code",
   "execution_count": 19,
   "metadata": {},
   "outputs": [
    {
     "name": "stderr",
     "output_type": "stream",
     "text": [
      "WARNING:absl:At this time, the v2.11+ optimizer `tf.keras.optimizers.Adam` runs slowly on M1/M2 Macs, please use the legacy Keras optimizer instead, located at `tf.keras.optimizers.legacy.Adam`.\n"
     ]
    }
   ],
   "source": [
    "# Define the RNN model with LSTM layers\n",
    "rnn_model = Sequential()\n",
    "rnn_model.add(LSTM(100, activation='relu', input_shape=(X_train_seq.shape[1], X_train_seq.shape[2]), return_sequences=True))\n",
    "rnn_model.add(Dropout(0.3))  # Increased dropout\n",
    "rnn_model.add(LSTM(50, activation='relu'))\n",
    "rnn_model.add(Dropout(0.3))  # Increased dropout\n",
    "rnn_model.add(Dense(64, activation='relu'))\n",
    "rnn_model.add(Dense(32, activation='relu'))\n",
    "rnn_model.add(Dense(1))\n",
    "\n",
    "# Compile the model\n",
    "opt = Adam(learning_rate=0.0001)\n",
    "rnn_model.compile(optimizer=opt, loss='mean_squared_error', metrics=['mae'])\n",
    "\n",
    "# Callbacks for early stopping and learning rate reduction\n",
    "early_stop = EarlyStopping(monitor='val_loss', patience=5, restore_best_weights=True)\n",
    "lr_scheduler = ReduceLROnPlateau(monitor='val_loss', factor=0.5, patience=5, min_lr=1e-6)\n",
    "\n"
   ]
  },
  {
   "cell_type": "code",
   "execution_count": 21,
   "metadata": {},
   "outputs": [
    {
     "name": "stdout",
     "output_type": "stream",
     "text": [
      "Epoch 1/10\n",
      "2799/2799 [==============================] - 32s 11ms/step - loss: 0.0747 - mae: 0.2252 - val_loss: 0.0758 - val_mae: 0.2174 - lr: 1.0000e-04\n",
      "Epoch 2/10\n",
      "2799/2799 [==============================] - 31s 11ms/step - loss: 0.0745 - mae: 0.2256 - val_loss: 0.0758 - val_mae: 0.2172 - lr: 1.0000e-04\n",
      "Epoch 3/10\n",
      "2799/2799 [==============================] - 32s 11ms/step - loss: 0.0744 - mae: 0.2256 - val_loss: 0.0751 - val_mae: 0.2227 - lr: 1.0000e-04\n",
      "Epoch 4/10\n",
      "2799/2799 [==============================] - 32s 11ms/step - loss: 0.0745 - mae: 0.2256 - val_loss: 0.0750 - val_mae: 0.2241 - lr: 1.0000e-04\n",
      "Epoch 5/10\n",
      "2799/2799 [==============================] - 31s 11ms/step - loss: 0.0744 - mae: 0.2258 - val_loss: 0.0751 - val_mae: 0.2238 - lr: 1.0000e-04\n",
      "Epoch 6/10\n",
      "2799/2799 [==============================] - 31s 11ms/step - loss: 0.0744 - mae: 0.2258 - val_loss: 0.0752 - val_mae: 0.2215 - lr: 1.0000e-04\n",
      "Epoch 7/10\n",
      "2799/2799 [==============================] - 32s 11ms/step - loss: 0.0744 - mae: 0.2256 - val_loss: 0.0750 - val_mae: 0.2254 - lr: 1.0000e-04\n",
      "Epoch 8/10\n",
      "2799/2799 [==============================] - 32s 11ms/step - loss: 0.0744 - mae: 0.2258 - val_loss: 0.0751 - val_mae: 0.2229 - lr: 1.0000e-04\n",
      "Epoch 9/10\n",
      "2799/2799 [==============================] - 31s 11ms/step - loss: 0.0744 - mae: 0.2258 - val_loss: 0.0750 - val_mae: 0.2252 - lr: 1.0000e-04\n",
      "Epoch 10/10\n",
      "2799/2799 [==============================] - 31s 11ms/step - loss: 0.0744 - mae: 0.2258 - val_loss: 0.0750 - val_mae: 0.2257 - lr: 5.0000e-05\n"
     ]
    },
    {
     "data": {
      "text/plain": [
       "<keras.src.callbacks.History at 0x34b05e910>"
      ]
     },
     "execution_count": 21,
     "metadata": {},
     "output_type": "execute_result"
    }
   ],
   "source": [
    "# Train the model with callbacks\n",
    "rnn_model.fit(X_train_seq, y_train_seq, epochs=10, batch_size=16, validation_data=(X_test_seq, y_test_seq), callbacks=[early_stop, lr_scheduler])\n",
    "\n"
   ]
  },
  {
   "cell_type": "code",
   "execution_count": 22,
   "metadata": {},
   "outputs": [
    {
     "name": "stdout",
     "output_type": "stream",
     "text": [
      "350/350 [==============================] - 2s 4ms/step\n",
      "RNN Adjusted MAPE: 341635858373412.44%\n",
      "RNN SMAPE: 149.19%\n",
      "RNN MBE: -0.00\n",
      "RNN MAE: 0.20\n",
      "RNN RMSE: 0.25\n",
      "RNN R²: -0.00\n"
     ]
    }
   ],
   "source": [
    "# Make predictions on the test set\n",
    "y_pred_rnn = rnn_model.predict(X_test_seq)\n",
    "\n",
    "# Flatten the predictions\n",
    "y_pred_rnn = y_pred_rnn.ravel()\n",
    "\n",
    "# Inverse transform the predictions and actual values to original scale\n",
    "y_test_inverse = scaler_y.inverse_transform(y_test_seq)\n",
    "y_pred_inverse = scaler_y.inverse_transform(y_pred_rnn.reshape(-1, 1))\n",
    "\n",
    "# Evaluate the RNN model\n",
    "mape_rnn = mean_absolute_percentage_error(y_test_inverse, y_pred_inverse)\n",
    "smape_rnn = np.mean(2 * np.abs(y_pred_inverse - y_test_inverse) / (np.abs(y_pred_inverse) + np.abs(y_test_inverse))) * 100\n",
    "mbe_rnn = np.mean(y_pred_inverse - y_test_inverse)  # Mean Bias Error\n",
    "mae_rnn = mean_absolute_error(y_test_inverse, y_pred_inverse)\n",
    "rmse_rnn = np.sqrt(mean_squared_error(y_test_inverse, y_pred_inverse))\n",
    "r2_rnn = r2_score(y_test_inverse, y_pred_inverse)\n",
    "\n",
    "# Print the evaluation results\n",
    "print(f\"RNN Adjusted MAPE: {mape_rnn:.2f}%\")\n",
    "print(f\"RNN SMAPE: {smape_rnn:.2f}%\")\n",
    "print(f\"RNN MBE: {mbe_rnn:.2f}\")\n",
    "print(f\"RNN MAE: {mae_rnn:.2f}\")\n",
    "print(f\"RNN RMSE: {rmse_rnn:.2f}\")\n",
    "print(f\"RNN R²: {r2_rnn:.2f}\")"
   ]
  }
 ],
 "metadata": {
  "kernelspec": {
   "display_name": "Python 3",
   "language": "python",
   "name": "python3"
  },
  "language_info": {
   "codemirror_mode": {
    "name": "ipython",
    "version": 3
   },
   "file_extension": ".py",
   "mimetype": "text/x-python",
   "name": "python",
   "nbconvert_exporter": "python",
   "pygments_lexer": "ipython3",
   "version": "3.9.6"
  }
 },
 "nbformat": 4,
 "nbformat_minor": 2
}
